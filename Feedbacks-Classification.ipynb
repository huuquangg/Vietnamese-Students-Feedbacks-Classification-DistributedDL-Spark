{
 "cells": [
  {
   "cell_type": "code",
   "execution_count": 1,
   "metadata": {},
   "outputs": [],
   "source": [
    "import os\n",
    "import sys\n",
    "\n",
    "os.environ['PYSPARK_PYTHON'] = sys.executable\n",
    "os.environ['PYSPARK_DRIVER_PYTHON'] = sys.executable"
   ]
  },
  {
   "cell_type": "code",
   "execution_count": 2,
   "metadata": {},
   "outputs": [],
   "source": [
    "from pyspark.ml import Pipeline # pipeline to transform data\n",
    "from pyspark.sql import SparkSession # to initiate spark\n",
    "from pyspark.sql.types import FloatType\n",
    "from pyspark.ml.feature import RegexTokenizer # tokenizer\n",
    "from pyspark.ml.feature import HashingTF, IDF # vectorizer\n",
    "from pyspark.ml.feature import StopWordsRemover # to remove stop words\n",
    "from pyspark.sql.functions import concat_ws, col # to concatinate cols\n",
    "from pyspark.ml.classification import LogisticRegression # ml model\n",
    "from pyspark.ml.evaluation import MulticlassClassificationEvaluator # to evaluate the model\n",
    "from pyspark.mllib.evaluation import MulticlassMetrics # # performance metrics"
   ]
  },
  {
   "cell_type": "code",
   "execution_count": 3,
   "metadata": {},
   "outputs": [
    {
     "data": {
      "text/html": [
       "\n",
       "            <div>\n",
       "                <p><b>SparkSession - in-memory</b></p>\n",
       "                \n",
       "        <div>\n",
       "            <p><b>SparkContext</b></p>\n",
       "\n",
       "            <p><a href=\"http://Quangg:4040\">Spark UI</a></p>\n",
       "\n",
       "            <dl>\n",
       "              <dt>Version</dt>\n",
       "                <dd><code>v3.5.1</code></dd>\n",
       "              <dt>Master</dt>\n",
       "                <dd><code>local[*]</code></dd>\n",
       "              <dt>AppName</dt>\n",
       "                <dd><code>Feedback classification</code></dd>\n",
       "            </dl>\n",
       "        </div>\n",
       "        \n",
       "            </div>\n",
       "        "
      ],
      "text/plain": [
       "<pyspark.sql.session.SparkSession at 0x1be477f1ba0>"
      ]
     },
     "execution_count": 3,
     "metadata": {},
     "output_type": "execute_result"
    }
   ],
   "source": [
    "from pyspark.sql import SparkSession\n",
    "from pyspark.sql.functions import *\n",
    "from pyspark.ml.feature import Normalizer, StandardScaler\n",
    "\n",
    "\n",
    "scala_version = '2.12'  # your scala version\n",
    "spark_version = '3.5.1' # your spark version\n",
    "packages = [\n",
    "    f'org.apache.spark:spark-sql-kafka-0-10_{scala_version}:{spark_version}',\n",
    "    'org.apache.kafka:kafka-clients:3.7.0' #your kafka version\n",
    "]\n",
    "\n",
    "spark = SparkSession \\\n",
    "        .builder \\\n",
    "        .appName(\"Feedback classification\") \\\n",
    "        .master(\"local[*]\") \\\n",
    "        .config(\"spark.jars.packages\", ','.join(packages)) \\\n",
    "        .getOrCreate()\n",
    "\n",
    "spark"
   ]
  },
  {
   "cell_type": "code",
   "execution_count": 4,
   "metadata": {},
   "outputs": [],
   "source": [
    "# %pip install pyspark"
   ]
  },
  {
   "cell_type": "code",
   "execution_count": 5,
   "metadata": {},
   "outputs": [
    {
     "name": "stdout",
     "output_type": "stream",
     "text": [
      "+---------------------------------------------------------------------------------------------------------------------------------+-----+\n",
      "|Feedbacks                                                                                                                        |senti|\n",
      "+---------------------------------------------------------------------------------------------------------------------------------+-----+\n",
      "|slide giáo trình đầy đủ .                                                                                                        |2    |\n",
      "|nhiệt tình giảng dạy , gần gũi với sinh viên .                                                                                   |2    |\n",
      "|đi học đầy đủ full điểm chuyên cần .                                                                                             |0    |\n",
      "|chưa áp dụng công nghệ thông tin và các thiết bị hỗ trợ cho việc giảng dạy .                                                     |0    |\n",
      "|thầy giảng bài hay , có nhiều bài tập ví dụ ngay trên lớp .                                                                      |2    |\n",
      "|giảng viên đảm bảo thời gian lên lớp , tích cực trả lời câu hỏi của sinh viên , thường xuyên đặt câu hỏi cho sinh viên .         |2    |\n",
      "|em sẽ nợ môn này , nhưng em sẽ học lại ở các học kỳ kế tiếp .                                                                    |1    |\n",
      "|thời lượng học quá dài , không đảm bảo tiếp thu hiệu quả .                                                                       |0    |\n",
      "|nội dung môn học có phần thiếu trọng tâm , hầu như là chung chung , khái quát khiến sinh viên rất khó nắm được nội dung môn học .|0    |\n",
      "|cần nói rõ hơn bằng cách trình bày lên bảng thay vì nhìn vào slide .                                                             |0    |\n",
      "|thầy rất tận tình và đi dạy rất đúng giờ .                                                                                       |2    |\n",
      "|dễ bị áp lực .                                                                                                                   |0    |\n",
      "|đang dạy thầy wzjwz208 đi qua nước ngoài giữa chừng , thầy wzjwz209 dạy thay .                                                   |1    |\n",
      "|môn học còn dễ cần nâng độ khó lên nữa .                                                                                         |0    |\n",
      "|có thể cho sinh viên đi thăm quan nhiều công ty xem quy mô và cách làm việc , để giúp hiểu rõ hơn vê ngành mình đang học .       |0    |\n",
      "|hài lòng về tất cả .                                                                                                             |2    |\n",
      "|nhiệt tình , vui vẻ .                                                                                                            |2    |\n",
      "|thấy nhiệt tình trong việc trao đổi giúp đỡ về học tập .                                                                         |2    |\n",
      "|phong cách giảng bài của thầy rất gần gũi với sinh viên !                                                                        |2    |\n",
      "|giảng dạy kết hợp các hoạt động giải trí có hiệu quả .                                                                           |2    |\n",
      "+---------------------------------------------------------------------------------------------------------------------------------+-----+\n",
      "only showing top 20 rows\n",
      "\n"
     ]
    }
   ],
   "source": [
    "# Load training data\n",
    "df = spark.read.csv(\"E:/University/VI BigData/DLSpark/StudentsFeedback\\StudentFeedbackDataset.csv\", inferSchema=True, header=True)\n",
    "df.show(truncate=False)\n",
    "\n"
   ]
  },
  {
   "cell_type": "code",
   "execution_count": 6,
   "metadata": {},
   "outputs": [
    {
     "name": "stdout",
     "output_type": "stream",
     "text": [
      "+--------------------+-----+\n",
      "|                Text|label|\n",
      "+--------------------+-----+\n",
      "|slide giáo trình ...|    2|\n",
      "|nhiệt tình giảng ...|    2|\n",
      "|đi học đầy đủ ful...|    0|\n",
      "|chưa áp dụng công...|    0|\n",
      "|thầy giảng bài ha...|    2|\n",
      "|giảng viên đảm bả...|    2|\n",
      "|em sẽ nợ môn này ...|    1|\n",
      "|thời lượng học qu...|    0|\n",
      "|nội dung môn học ...|    0|\n",
      "|cần nói rõ hơn bằ...|    0|\n",
      "+--------------------+-----+\n",
      "only showing top 10 rows\n",
      "\n"
     ]
    }
   ],
   "source": [
    "df = df.withColumnRenamed('senti', 'label')\n",
    "df = df.withColumnRenamed('Feedbacks', 'Text')\n",
    "\n",
    "# convert label string to integer\n",
    "from pyspark.sql.functions import col\n",
    "df = df.withColumn(\"label\", col(\"label\").cast(\"integer\"))\n",
    "\n",
    "# Shows top 10 rows\n",
    "df.show(10)"
   ]
  },
  {
   "cell_type": "code",
   "execution_count": 7,
   "metadata": {},
   "outputs": [
    {
     "name": "stdout",
     "output_type": "stream",
     "text": [
      "+--------------------+-----+--------------------+\n",
      "|                Text|label|               words|\n",
      "+--------------------+-----+--------------------+\n",
      "|slide giáo trình ...|    2|[slide, giáo, trì...|\n",
      "|nhiệt tình giảng ...|    2|[nhiệt, tình, giả...|\n",
      "|đi học đầy đủ ful...|    0|[đi, học, đầy, đủ...|\n",
      "|chưa áp dụng công...|    0|[chưa, áp, dụng, ...|\n",
      "|thầy giảng bài ha...|    2|[thầy, giảng, bài...|\n",
      "+--------------------+-----+--------------------+\n",
      "only showing top 5 rows\n",
      "\n"
     ]
    }
   ],
   "source": [
    "# convert sentences to list of words\n",
    "tokenizer = RegexTokenizer(inputCol=\"Text\", outputCol=\"words\", pattern=\" \")\n",
    "\n",
    "# remove white space in each list in words column\n",
    "\n",
    "# adds a column 'words' to df after tokenization\n",
    "df = tokenizer.transform(df)\n",
    "# df = df.withColumn('Text', regexp_replace('Text', ' ', ''))\n",
    "\n",
    "# df.select(['label','Text', 'words']).show(5)\n",
    "df.show(5)"
   ]
  },
  {
   "cell_type": "code",
   "execution_count": 8,
   "metadata": {},
   "outputs": [
    {
     "name": "stdout",
     "output_type": "stream",
     "text": [
      "+-----+---------------------------------------------------------------------------------------------------------------------------------+----------------------------------------------------------------------------------------------------------------------------------------------------------------+-------------------------------------------------------------------------------------------------------------------------------------------------------------+\n",
      "|label|Text                                                                                                                             |words                                                                                                                                                           |filtered                                                                                                                                                     |\n",
      "+-----+---------------------------------------------------------------------------------------------------------------------------------+----------------------------------------------------------------------------------------------------------------------------------------------------------------+-------------------------------------------------------------------------------------------------------------------------------------------------------------+\n",
      "|2    |slide giáo trình đầy đủ .                                                                                                        |[slide, giáo, trình, đầy, đủ, .]                                                                                                                                |[slide, giáo, trình, đầy, đủ]                                                                                                                                |\n",
      "|2    |nhiệt tình giảng dạy , gần gũi với sinh viên .                                                                                   |[nhiệt, tình, giảng, dạy, ,, gần, gũi, với, sinh, viên, .]                                                                                                      |[nhiệt, tình, giảng, dạy, ,, gần, gũi, với, sinh, viên]                                                                                                      |\n",
      "|0    |đi học đầy đủ full điểm chuyên cần .                                                                                             |[đi, học, đầy, đủ, full, điểm, chuyên, cần, .]                                                                                                                  |[đi, học, đầy, đủ, full, điểm, chuyên, cần]                                                                                                                  |\n",
      "|0    |chưa áp dụng công nghệ thông tin và các thiết bị hỗ trợ cho việc giảng dạy .                                                     |[chưa, áp, dụng, công, nghệ, thông, tin, và, các, thiết, bị, hỗ, trợ, cho, việc, giảng, dạy, .]                                                                 |[chưa, áp, dụng, công, nghệ, thông, tin, và, các, thiết, bị, hỗ, trợ, cho, việc, giảng, dạy]                                                                 |\n",
      "|2    |thầy giảng bài hay , có nhiều bài tập ví dụ ngay trên lớp .                                                                      |[thầy, giảng, bài, hay, ,, có, nhiều, bài, tập, ví, dụ, ngay, trên, lớp, .]                                                                                     |[thầy, giảng, bài, hay, ,, có, nhiều, bài, tập, ví, dụ, ngay, trên, lớp]                                                                                     |\n",
      "|2    |giảng viên đảm bảo thời gian lên lớp , tích cực trả lời câu hỏi của sinh viên , thường xuyên đặt câu hỏi cho sinh viên .         |[giảng, viên, đảm, bảo, thời, gian, lên, lớp, ,, tích, cực, trả, lời, câu, hỏi, của, sinh, viên, ,, thường, xuyên, đặt, câu, hỏi, cho, sinh, viên, .]           |[giảng, viên, đảm, bảo, thời, gian, lên, lớp, ,, tích, cực, trả, lời, câu, hỏi, của, sinh, viên, ,, thường, xuyên, đặt, câu, hỏi, cho, sinh, viên]           |\n",
      "|1    |em sẽ nợ môn này , nhưng em sẽ học lại ở các học kỳ kế tiếp .                                                                    |[em, sẽ, nợ, môn, này, ,, nhưng, em, sẽ, học, lại, ở, các, học, kỳ, kế, tiếp, .]                                                                                |[em, sẽ, nợ, môn, này, ,, nhưng, em, sẽ, học, lại, ở, các, học, kỳ, kế, tiếp]                                                                                |\n",
      "|0    |thời lượng học quá dài , không đảm bảo tiếp thu hiệu quả .                                                                       |[thời, lượng, học, quá, dài, ,, không, đảm, bảo, tiếp, thu, hiệu, quả, .]                                                                                       |[thời, lượng, học, quá, dài, ,, không, đảm, bảo, tiếp, thu, hiệu, quả]                                                                                       |\n",
      "|0    |nội dung môn học có phần thiếu trọng tâm , hầu như là chung chung , khái quát khiến sinh viên rất khó nắm được nội dung môn học .|[nội, dung, môn, học, có, phần, thiếu, trọng, tâm, ,, hầu, như, là, chung, chung, ,, khái, quát, khiến, sinh, viên, rất, khó, nắm, được, nội, dung, môn, học, .]|[nội, dung, môn, học, có, phần, thiếu, trọng, tâm, ,, hầu, như, là, chung, chung, ,, khái, quát, khiến, sinh, viên, rất, khó, nắm, được, nội, dung, môn, học]|\n",
      "|0    |cần nói rõ hơn bằng cách trình bày lên bảng thay vì nhìn vào slide .                                                             |[cần, nói, rõ, hơn, bằng, cách, trình, bày, lên, bảng, thay, vì, nhìn, vào, slide, .]                                                                           |[cần, nói, rõ, hơn, bằng, cách, trình, bày, lên, bảng, thay, vì, nhìn, vào, slide]                                                                           |\n",
      "|2    |thầy rất tận tình và đi dạy rất đúng giờ .                                                                                       |[thầy, rất, tận, tình, và, đi, dạy, rất, đúng, giờ, .]                                                                                                          |[thầy, rất, tận, tình, và, đi, dạy, rất, đúng, giờ]                                                                                                          |\n",
      "|0    |dễ bị áp lực .                                                                                                                   |[dễ, bị, áp, lực, .]                                                                                                                                            |[dễ, bị, áp, lực]                                                                                                                                            |\n",
      "|1    |đang dạy thầy wzjwz208 đi qua nước ngoài giữa chừng , thầy wzjwz209 dạy thay .                                                   |[đang, dạy, thầy, wzjwz208, đi, qua, nước, ngoài, giữa, chừng, ,, thầy, wzjwz209, dạy, thay, .]                                                                 |[đang, dạy, thầy, wzjwz208, đi, qua, nước, ngoài, giữa, chừng, ,, thầy, wzjwz209, dạy, thay]                                                                 |\n",
      "|0    |môn học còn dễ cần nâng độ khó lên nữa .                                                                                         |[môn, học, còn, dễ, cần, nâng, độ, khó, lên, nữa, .]                                                                                                            |[môn, học, còn, dễ, cần, nâng, độ, khó, lên, nữa]                                                                                                            |\n",
      "|0    |có thể cho sinh viên đi thăm quan nhiều công ty xem quy mô và cách làm việc , để giúp hiểu rõ hơn vê ngành mình đang học .       |[có, thể, cho, sinh, viên, đi, thăm, quan, nhiều, công, ty, xem, quy, mô, và, cách, làm, việc, ,, để, giúp, hiểu, rõ, hơn, vê, ngành, mình, đang, học, .]       |[có, thể, cho, sinh, viên, đi, thăm, quan, nhiều, công, ty, xem, quy, mô, và, cách, làm, việc, ,, để, giúp, hiểu, rõ, hơn, vê, ngành, mình, đang, học]       |\n",
      "|2    |hài lòng về tất cả .                                                                                                             |[hài, lòng, về, tất, cả, .]                                                                                                                                     |[hài, lòng, về, tất, cả]                                                                                                                                     |\n",
      "|2    |nhiệt tình , vui vẻ .                                                                                                            |[nhiệt, tình, ,, vui, vẻ, .]                                                                                                                                    |[nhiệt, tình, ,, vui, vẻ]                                                                                                                                    |\n",
      "|2    |thấy nhiệt tình trong việc trao đổi giúp đỡ về học tập .                                                                         |[thấy, nhiệt, tình, trong, việc, trao, đổi, giúp, đỡ, về, học, tập, .]                                                                                          |[thấy, nhiệt, tình, trong, việc, trao, đổi, giúp, đỡ, về, học, tập]                                                                                          |\n",
      "|2    |phong cách giảng bài của thầy rất gần gũi với sinh viên !                                                                        |[phong, cách, giảng, bài, của, thầy, rất, gần, gũi, với, sinh, viên, !]                                                                                         |[phong, cách, giảng, bài, của, thầy, rất, gần, gũi, với, sinh, viên]                                                                                         |\n",
      "|2    |giảng dạy kết hợp các hoạt động giải trí có hiệu quả .                                                                           |[giảng, dạy, kết, hợp, các, hoạt, động, giải, trí, có, hiệu, quả, .]                                                                                            |[giảng, dạy, kết, hợp, các, hoạt, động, giải, trí, có, hiệu, quả]                                                                                            |\n",
      "+-----+---------------------------------------------------------------------------------------------------------------------------------+----------------------------------------------------------------------------------------------------------------------------------------------------------------+-------------------------------------------------------------------------------------------------------------------------------------------------------------+\n",
      "only showing top 20 rows\n",
      "\n"
     ]
    }
   ],
   "source": [
    "# read txt file and convert it to a list\n",
    "with open('E:/University/VI BigData/DLSpark/StudentsFeedback/vietnamese-stopwords.txt','r',encoding='utf-8') as f:\n",
    "    stopwords = f.readlines()\n",
    "\n",
    "stopwords = [x.strip() for x in stopwords]\n",
    "\n",
    "\n",
    "\n",
    "# to remove stop words like is, the, in, etc.\n",
    "stopwords_remover = StopWordsRemover(inputCol=\"words\", outputCol=\"filtered\",stopWords=stopwords)\n",
    "stopwords_remover = StopWordsRemover(inputCol=\"words\", outputCol=\"filtered\",stopWords=[\", \",\".\",\" \",\" ,\",\" , \",\"!\",\"?\",\"(\",\")\",\"[\",\"]\",\"{\",\"}\",\"-\",\"_\",\"@\",\"#\",\"$\",\"%\",\"^\",\"&\",\"*\",\"/\",\"\\\\\",\"|\",\"<\",\">\",\"~\",\"`\",\"1\",\"2\",\"3\",\"4\",\"5\",\"6\",\"7\",\"8\",\"9\",\"0\",\"'\",\";\",\"=\",\"+\",\"-\",\"_\",\".\",\":\",\";\",\"/\",\"?\",\"!\",\"@\",\"#\",\"$\",\"%\",\"^\",\"&\",\"*\",\"(\",\")\",\"[\",\"]\",\"{\",\"}\",\"<\",\">\",\"~\",\"`\",\"1\",\"2\",\"3\",\"4\",\"5\",\"6\",\"7\",\"8\",\"9\",\"0\",\"-\",\"_\",\".\",\";\",\":\",\"/\",\"?\",\"!\",\"@\",\"#\",\"$\",\"%\",\"^\",\"&\",\"*\",\"(\",\")\",\"[\",\"]\",\"{\",\"}\",\"<\",\">\",\"~\",\"`\",\"1\",\"2\",\"3\",\"4\",\"5\",\"6\",\"7\",\"8\",\"9\",\"0\",\"-\",\"_\",\".\",\";\",\":\",\"/\",\"?\",\"!\",\"@\",\"#\",\"$\",\"%\",\"^\",\"&\",\"*\",\"(\",\")\",\"[\",\"]\",\"{\",\"}\",\"<\",\">\",\"~\",\"`\",\"1\",\"2\",\"3\",\"4\",\"5\",\"6\",\"7\",\"8\",\"9\",\"0\",\"-\",\"_\",\".\",\";\",\":\",\"/\",\"?\",\"!\",\"@\",\"#\",\"$\",\"%\",\"^\",\"&\",\"*\",\"(\",\")\",\"[\",\"]\",\"{\",\"}\",\"<\",\">\",\"~\",\"`\",\"1\",\"2\",\"3\",\"4\",\"5\",\"6\",\"7\",\"8\",\"9\",\"0\",\"-\",\"_\",\".\",\";\",\":\",\"/\",\"?\",\"!\",\"@\",\"#\",\"$\",\"%\",\"^\",\"&\",\"*\",\"(\",\")\",\"[\",\"]\",\"{\",\"}\",\"<\",\">\",\"~\",\"`\",\"1\",\"2\",\"3\",\"4\",\"5\",\"6\",\"7\",\"8\",\"9\",\"0\",\"-\",\"_\",\".\",\";\",\":\",\"/\",\"?\",\"!\",\"@\",\"#\",\"$\",\"%\",\"^\",\"&\",\"*\",\"(\",\")\",\"[\",\"]\",\"{\",\"}\",\"<\",\">\",\"~\",\"`\",\"1\",\"2\",\"3\",\"4\",\"5\",\"6\",\"7\",\"8\",\"9\",\"0\",\"-\",\"_\",\".\",\";\",\":\",\"/\",\"?\",\"!\",\"@\",\"#\",\"$\",\"%\",\"^\",\"&\"])\n",
    "\n",
    "# adds a column 'filtered' to df without stopwords\n",
    "df = stopwords_remover.transform(df)\n",
    "\n",
    "# remove white spaces\n",
    "\n",
    "\n",
    "df.select(['label','Text', 'words', 'filtered']).show(truncate=False)\n"
   ]
  },
  {
   "cell_type": "code",
   "execution_count": 9,
   "metadata": {},
   "outputs": [],
   "source": [
    "# Calculate term frequency in each article\n",
    "hashing_tf = HashingTF(inputCol=\"filtered\",\n",
    "                       outputCol=\"raw_features\", \n",
    "                       numFeatures=10000)\n",
    "\n",
    "# adds raw tf features to df\n",
    "featurized_data = hashing_tf.transform(df)"
   ]
  },
  {
   "cell_type": "code",
   "execution_count": 10,
   "metadata": {},
   "outputs": [
    {
     "name": "stdout",
     "output_type": "stream",
     "text": [
      "+-----+--------------------+--------------------+--------------------+--------------------+\n",
      "|label|                Text|               words|            filtered|            features|\n",
      "+-----+--------------------+--------------------+--------------------+--------------------+\n",
      "|    2|slide giáo trình ...|[slide, giáo, trì...|[slide, giáo, trì...|(10000,[1472,1833...|\n",
      "|    2|nhiệt tình giảng ...|[nhiệt, tình, giả...|[nhiệt, tình, giả...|(10000,[2103,3267...|\n",
      "|    0|đi học đầy đủ ful...|[đi, học, đầy, đủ...|[đi, học, đầy, đủ...|(10000,[373,572,1...|\n",
      "|    0|chưa áp dụng công...|[chưa, áp, dụng, ...|[chưa, áp, dụng, ...|(10000,[598,874,1...|\n",
      "|    2|thầy giảng bài ha...|[thầy, giảng, bài...|[thầy, giảng, bài...|(10000,[445,640,9...|\n",
      "|    2|giảng viên đảm bả...|[giảng, viên, đảm...|[giảng, viên, đảm...|(10000,[325,445,1...|\n",
      "|    1|em sẽ nợ môn này ...|[em, sẽ, nợ, môn,...|[em, sẽ, nợ, môn,...|(10000,[156,492,1...|\n",
      "|    0|thời lượng học qu...|[thời, lượng, học...|[thời, lượng, học...|(10000,[325,445,2...|\n",
      "|    0|nội dung môn học ...|[nội, dung, môn, ...|[nội, dung, môn, ...|(10000,[453,478,1...|\n",
      "|    0|cần nói rõ hơn bằ...|[cần, nói, rõ, hơ...|[cần, nói, rõ, hơ...|(10000,[615,1072,...|\n",
      "|    2|thầy rất tận tình...|[thầy, rất, tận, ...|[thầy, rất, tận, ...|(10000,[572,1331,...|\n",
      "|    0|      dễ bị áp lực .|[dễ, bị, áp, lực, .]|   [dễ, bị, áp, lực]|(10000,[598,7287,...|\n",
      "|    1|đang dạy thầy wzj...|[đang, dạy, thầy,...|[đang, dạy, thầy,...|(10000,[380,572,1...|\n",
      "|    0|môn học còn dễ cầ...|[môn, học, còn, d...|[môn, học, còn, d...|(10000,[2284,3938...|\n",
      "|    0|có thể cho sinh v...|[có, thể, cho, si...|[có, thể, cho, si...|(10000,[572,615,6...|\n",
      "|    2|hài lòng về tất cả .|[hài, lòng, về, t...|[hài, lòng, về, t...|(10000,[2383,3058...|\n",
      "|    2|nhiệt tình , vui ...|[nhiệt, tình, ,, ...|[nhiệt, tình, ,, ...|(10000,[2103,3267...|\n",
      "|    2|thấy nhiệt tình t...|[thấy, nhiệt, tìn...|[thấy, nhiệt, tìn...|(10000,[2103,2650...|\n",
      "|    2|phong cách giảng ...|[phong, cách, giả...|[phong, cách, giả...|(10000,[1032,1072...|\n",
      "|    2|giảng dạy kết hợp...|[giảng, dạy, kết,...|[giảng, dạy, kết,...|(10000,[1007,1045...|\n",
      "+-----+--------------------+--------------------+--------------------+--------------------+\n",
      "only showing top 20 rows\n",
      "\n"
     ]
    }
   ],
   "source": [
    "# Inverse document frequency\n",
    "idf = IDF(inputCol=\"raw_features\", outputCol=\"features\")\n",
    "\n",
    "idf_vectorizer = idf.fit(featurized_data)\n",
    "\n",
    "# converting text to vectors\n",
    "rescaled_data = idf_vectorizer.transform(featurized_data)\n",
    "\n",
    "# top 20 rows\n",
    "rescaled_data.select(\"label\",'Text', 'words', 'filtered', \"features\").show()\n",
    "\n",
    "# remove last element in each list in filtered column"
   ]
  },
  {
   "cell_type": "code",
   "execution_count": 11,
   "metadata": {},
   "outputs": [
    {
     "name": "stdout",
     "output_type": "stream",
     "text": [
      "Training Dataset Count: 8524\n",
      "Test Dataset Count: 2902\n"
     ]
    }
   ],
   "source": [
    "# Split Train/Test data\n",
    "(train, test) = rescaled_data.randomSplit([0.75, 0.25], seed = 202)\n",
    "print(\"Training Dataset Count: \" + str(train.count()))\n",
    "print(\"Test Dataset Count: \" + str(test.count()))"
   ]
  },
  {
   "cell_type": "code",
   "execution_count": 14,
   "metadata": {},
   "outputs": [
    {
     "name": "stdout",
     "output_type": "stream",
     "text": [
      "+--------------------+-----+--------------------+--------------------+--------------------+--------------------+--------------------+--------------------+----------+\n",
      "|                Text|label|               words|            filtered|        raw_features|            features|       rawPrediction|         probability|prediction|\n",
      "+--------------------+-----+--------------------+--------------------+--------------------+--------------------+--------------------+--------------------+----------+\n",
      "|\"chỉ một câu \"\" g...|    2|[\"chỉ, một, câu, ...|[\"chỉ, một, câu, ...|(10000,[1066,2346...|(10000,[1066,2346...|[5.09208191976221...|[0.99712822660144...|       0.0|\n",
      "|\"cả năm toàn học ...|    0|[\"cả, năm, toàn, ...|[\"cả, năm, toàn, ...|(10000,[92,125,37...|(10000,[92,125,37...|[-2.0115877639236...|[0.01062161009016...|       1.0|\n",
      "|\"dạy học sinh hỏi...|    0|[\"dạy, học, sinh,...|[\"dạy, học, sinh,...|(10000,[1094,1877...|(10000,[1094,1877...|[-0.3090696925464...|[0.10068488246831...|       2.0|\n",
      "|\"không nên \"\" hù ...|    0|[\"không, nên, \"\",...|[\"không, nên, \"\",...|(10000,[207,357,4...|(10000,[207,357,4...|[5.09210247564431...|[0.99712828216116...|       0.0|\n",
      "|\"không rõ \"\" thu ...|    0|[\"không, rõ, \"\", ...|[\"không, rõ, \"\", ...|(10000,[589,615,2...|(10000,[589,615,2...|[4.83642355540080...|[0.99632612167760...|       0.0|\n",
      "|\"khắc phục khuyết...|    0|[\"khắc, phục, khu...|[\"khắc, phục, khu...|(10000,[373,589,1...|(10000,[373,589,1...|[1.11995686885160...|[0.83677588406057...|       0.0|\n",
      "|\"lúc cho phép sửa...|    0|[\"lúc, cho, phép,...|[\"lúc, cho, phép,...|(10000,[373,1331,...|(10000,[373,1331,...|[5.09205694959333...|[0.99712815913685...|       0.0|\n",
      "|\"quản lý như vậy ...|    0|[\"quản, lý, như, ...|[\"quản, lý, như, ...|(10000,[375,2276,...|(10000,[375,2276,...|[4.82853826349517...|[0.99626876599851...|       0.0|\n",
      "|\"rồi trong thời g...|    0|[\"rồi, trong, thờ...|[\"rồi, trong, thờ...|(10000,[207,589,7...|(10000,[207,589,7...|[5.09165672403753...|[0.99712702488226...|       0.0|\n",
      "|\"thái độ dạy hời ...|    0|[\"thái, độ, dạy, ...|[\"thái, độ, dạy, ...|(10000,[207,445,5...|(10000,[207,445,5...|[5.08330590431999...|[0.99710411647896...|       0.0|\n",
      "|\"tiếng anh lại kh...|    0|[\"tiếng, anh, lại...|[\"tiếng, anh, lại...|(10000,[533,792,1...|(10000,[533,792,1...|[0.81913427891854...|[0.61079864754601...|       0.0|\n",
      "|1 chỉ thực hành c...|    0|[1, chỉ, thực, hà...|[chỉ, thực, hành,...|(10000,[46,58,973...|(10000,[46,58,973...|[-0.8690102637564...|[0.00122757352452...|       2.0|\n",
      "|1 tín chỉ thực hà...|    1|[1, tín, chỉ, thự...|[tín, chỉ, thực, ...|(10000,[46,973,42...|(10000,[46,973,42...|[5.07254591408618...|[0.99707317104203...|       0.0|\n",
      "|50% giành cho kiế...|    1|[50%, giành, cho,...|[50%, giành, cho,...|(10000,[459,1039,...|(10000,[459,1039,...|[3.38435710055379...|[0.98358457564219...|       0.0|\n",
      "|           anh văn .|    1|       [anh, văn, .]|          [anh, văn]|(10000,[1316,8752...|(10000,[1316,8752...|[-2.0307122884924...|[0.01017284010976...|       1.0|\n",
      "|anh wzjwz278 như ...|    2|[anh, wzjwz278, n...|[anh, wzjwz278, n...|(10000,[55,459,13...|(10000,[55,459,13...|[-0.8690106365066...|[0.00122789820152...|       2.0|\n",
      "|ban đầu thì em có...|    2|[ban, đầu, thì, e...|[ban, đầu, thì, e...|(10000,[492,1043,...|(10000,[492,1043,...|[5.09042715600010...|[0.99712355248333...|       0.0|\n",
      "|biết hai ngôn ngữ...|    2|[biết, hai, ngôn,...|[biết, hai, ngôn,...|(10000,[58,854,18...|(10000,[58,854,18...|[4.63003801263649...|[0.99544726984746...|       0.0|\n",
      "|biết làm bài tập ...|    0|[biết, làm, bài, ...|[biết, làm, bài, ...|(10000,[492,589,9...|(10000,[492,589,9...|[5.09209897789353...|[0.99712827231579...|       0.0|\n",
      "|biết tạo điều kiệ...|    2|[biết, tạo, điều,...|[biết, tạo, điều,...|(10000,[1007,1131...|(10000,[1007,1131...|[-0.8690550797081...|[0.00122786533675...|       2.0|\n",
      "+--------------------+-----+--------------------+--------------------+--------------------+--------------------+--------------------+--------------------+----------+\n",
      "only showing top 20 rows\n",
      "\n"
     ]
    }
   ],
   "source": [
    "from pyspark.ml.classification import MultilayerPerceptronClassifier\n",
    "from pyspark.ml.evaluation import MulticlassClassificationEvaluator\n",
    "\n",
    "len_features = len(train.select(\"features\").first()[0])\n",
    "layers = [len_features, 4, 2, 3]\n",
    "train = train.filter(train.label.isNotNull() & ~isnan(train.label))\n",
    "\n",
    "\n",
    "lr = MultilayerPerceptronClassifier(labelCol='label',\n",
    "                                            featuresCol='features',\n",
    "                                            maxIter=100,\n",
    "                                            layers=layers,\n",
    "                                            blockSize=128,\n",
    "                                            seed=1234)\n",
    "\n",
    "# train the model\n",
    "lrModel = lr.fit(train)\n",
    "\n",
    "# compute accuracy on the test set\n",
    "predictions = lrModel.transform(test)\n",
    "# remove all NULL or NaN values from all categorical columns\n",
    "predictions = predictions.filter(predictions.label.isNotNull() & ~isnan(predictions.label))\n",
    "predictions.show()"
   ]
  },
  {
   "cell_type": "code",
   "execution_count": 17,
   "metadata": {},
   "outputs": [
    {
     "name": "stdout",
     "output_type": "stream",
     "text": [
      "+----------------------------------------------------------------------------------------------------------------------------------------------------------------------------------------+----------+\n",
      "|Text                                                                                                                                                                                    |prediction|\n",
      "+----------------------------------------------------------------------------------------------------------------------------------------------------------------------------------------+----------+\n",
      "|\"chỉ một câu \"\" giấc mơ thành đại gia \"\" .\"                                                                                                                                             |negative  |\n",
      "|\"cả năm toàn học vòng lặp \"\" if \"\" \"\" for \"\" \"\" while \"\" đến bữa cuối mới lơ mơ học được struct với tạo file header mà ra đề 5 điểm trong phần đó .\"                                    |neutral   |\n",
      "|\"dạy học sinh hỏi thì nói \"\" tui không biết \"\" .\"                                                                                                                                       |positive  |\n",
      "|\"không nên \"\" hù dọa \"\" sinh viên ở phía trước mỗi bài toán mà phải biến nó thành đơn giản để thực thi bài toán giảng viên cần phải làm những bài tập mẫu hơn là cho mấy trăm bài tập .\"|negative  |\n",
      "|\"không rõ \"\" thu được gì \"\" từ môn học này .\"                                                                                                                                           |negative  |\n",
      "|\"khắc phục khuyết điểm \"\" tôi không có lý do gì để xem bài tập của em cả \"\" .\"                                                                                                          |negative  |\n",
      "|\"lúc cho phép sửa điểm thì không thông báo giờ cụ thể chỉ nói \"\" buổi tối \"\" .\"                                                                                                         |negative  |\n",
      "|\"quản lý như vậy dẫn đến tình trạng \"\" cha chung không ai khóc \"\" .\"                                                                                                                    |negative  |\n",
      "|\"rồi trong thời gian sinh viên báo cáo thì không lắng nghe và góp ý , mà hỏi những câu ví dụ như doubledot \"\" chỉ có vậy thôi hả ? còn gì nữa không ? dotdotdot \"\" .\"                   |negative  |\n",
      "|\"thái độ dạy hời hợt , những buổi giảng viên \"\" không kẹt xe \"\" thì sẽ cho lớp nghỉ sớm để giảng viên \"\" đi họp \"\" .\"                                                                   |negative  |\n",
      "|\"tiếng anh lại không chuẩn mà cứ nói ngập ngừng suốt buổi , không thấy một câu tiếng việt ( ví dụ doubledot \"\" các em hiểu không ? \"\" ) .\"                                              |negative  |\n",
      "|1 chỉ thực hành chỉ còn ý nghĩa tượng trưng .                                                                                                                                           |positive  |\n",
      "|1 tín chỉ thực hành 2 tín chỉ học phí .                                                                                                                                                 |negative  |\n",
      "|50% giành cho kiến thức chi tiết một loại công nghệ dotnet doubledot có thể giống đồ án cuối kỳ hiện tại .                                                                              |negative  |\n",
      "|anh văn .                                                                                                                                                                               |neutral   |\n",
      "|anh wzjwz278 như một người bạn vậy , rất gần gũi , thoải mái khi giao tiếp với sinh viên , kiến thức học được từ anh rất đầy đủ .                                                       |positive  |\n",
      "|ban đầu thì em có vẻ không hài lòng lắm về giáo viên khi học môn này , nhưng sau một khoảng thời gian thì thấy cũng ổn .                                                                |negative  |\n",
      "|biết hai ngôn ngữ sẽ dễ gây ấn tượng với nhà tuyển dụng hơn là một .                                                                                                                    |negative  |\n",
      "|biết làm bài tập của môn học nhưng không hiểu nó liên quan gì đến thực tế .                                                                                                             |negative  |\n",
      "|biết tạo điều kiện cho học sinh rèn luyện các kỹ năng , khả năng dẫn dắt truyền đạt tốt .                                                                                               |positive  |\n",
      "+----------------------------------------------------------------------------------------------------------------------------------------------------------------------------------------+----------+\n",
      "only showing top 20 rows\n",
      "\n"
     ]
    }
   ],
   "source": [
    "# convert 0,1,2 to negative, neutral, positive\n",
    "result2 = predictions.withColumn('prediction', when(predictions['prediction'] == 0, 'negative')\n",
    "                                     .when(predictions['prediction'] == 1, 'neutral')\n",
    "                                     .otherwise('positive'))\n",
    "\n",
    "result2.select(\"Text\", 'prediction').show(truncate=False)"
   ]
  },
  {
   "cell_type": "code",
   "execution_count": 18,
   "metadata": {},
   "outputs": [
    {
     "name": "stdout",
     "output_type": "stream",
     "text": [
      "Test-set Accuracy is: 0.874587831490776\n"
     ]
    }
   ],
   "source": [
    "# Remove null values from label column\n",
    "predictions = predictions.filter(predictions.label.isNotNull())\n",
    "\n",
    "# Convert prediction column to DoubleType\n",
    "evaluator = MulticlassClassificationEvaluator(predictionCol=\"prediction\")\n",
    "\n",
    "# Evaluate the model\n",
    "print(\"Test-set Accuracy is:\", evaluator.evaluate(predictions))"
   ]
  },
  {
   "cell_type": "code",
   "execution_count": null,
   "metadata": {},
   "outputs": [],
   "source": [
    "# # export predictions to csv\n",
    "# # predictions.select(\"Text\", 'probability','prediction', 'label').toPandas().to_csv('E:/University/VI BigData/DLSpark/StudentsFeedback/predictions.csv')\n",
    "\n",
    "# # export result to csv\n",
    "# result.select(\"Text\", 'prediction').toPandas().to_csv('E:/University/VI BigData/DLSpark/StudentsFeedback/result.csv')\n"
   ]
  }
 ],
 "metadata": {
  "kernelspec": {
   "display_name": "Python 3",
   "language": "python",
   "name": "python3"
  },
  "language_info": {
   "codemirror_mode": {
    "name": "ipython",
    "version": 3
   },
   "file_extension": ".py",
   "mimetype": "text/x-python",
   "name": "python",
   "nbconvert_exporter": "python",
   "pygments_lexer": "ipython3",
   "version": "3.10.4"
  }
 },
 "nbformat": 4,
 "nbformat_minor": 2
}
